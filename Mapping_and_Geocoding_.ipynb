{
  "nbformat": 4,
  "nbformat_minor": 0,
  "metadata": {
    "colab": {
      "provenance": [],
      "authorship_tag": "ABX9TyM7Gs77L6tVYoeuyGfYKugV",
      "include_colab_link": true
    },
    "kernelspec": {
      "name": "python3",
      "display_name": "Python 3"
    },
    "language_info": {
      "name": "python"
    }
  },
  "cells": [
    {
      "cell_type": "markdown",
      "metadata": {
        "id": "view-in-github",
        "colab_type": "text"
      },
      "source": [
        "<a href=\"https://colab.research.google.com/github/aniparnagian/Mapping_and_Geocoding/blob/main/Mapping_and_Geocoding_.ipynb\" target=\"_parent\"><img src=\"https://colab.research.google.com/assets/colab-badge.svg\" alt=\"Open In Colab\"/></a>"
      ]
    },
    {
      "cell_type": "code",
      "execution_count": 1,
      "metadata": {
        "colab": {
          "base_uri": "https://localhost:8080/"
        },
        "id": "vNUgTvQIcKHN",
        "outputId": "ae02f675-b19e-4ef4-c820-a862a2aa2d36"
      },
      "outputs": [
        {
          "output_type": "stream",
          "name": "stdout",
          "text": [
            "Looking in indexes: https://pypi.org/simple, https://us-python.pkg.dev/colab-wheels/public/simple/\n",
            "Requirement already satisfied: geopy in /usr/local/lib/python3.8/dist-packages (1.17.0)\n",
            "Requirement already satisfied: geographiclib<2,>=1.49 in /usr/local/lib/python3.8/dist-packages (from geopy) (1.52)\n"
          ]
        }
      ],
      "source": [
        "!pip install geopy\n"
      ]
    },
    {
      "cell_type": "code",
      "source": [
        "from geopy.geocoders import Nominatim(user_agent)\n"
      ],
      "metadata": {
        "id": "SL71DZqNclMP",
        "colab": {
          "base_uri": "https://localhost:8080/",
          "height": 133
        },
        "outputId": "7e55aaa8-bdb4-4fdf-e4e5-880d4a232547"
      },
      "execution_count": 3,
      "outputs": [
        {
          "output_type": "error",
          "ename": "SyntaxError",
          "evalue": "ignored",
          "traceback": [
            "\u001b[0;36m  File \u001b[0;32m\"<ipython-input-3-1be7a040b15e>\"\u001b[0;36m, line \u001b[0;32m1\u001b[0m\n\u001b[0;31m    from geopy.geocoders import Nominatim(user_agent)\u001b[0m\n\u001b[0m                                         ^\u001b[0m\n\u001b[0;31mSyntaxError\u001b[0m\u001b[0;31m:\u001b[0m invalid syntax\n"
          ]
        }
      ]
    },
    {
      "cell_type": "code",
      "source": [
        "geolocator = Nominatim(user_agent=\"Ani Parnagian\", timeout=2)"
      ],
      "metadata": {
        "id": "lVd51VVpcu0E"
      },
      "execution_count": null,
      "outputs": []
    },
    {
      "cell_type": "code",
      "source": [
        "location = geolocator.geocode(\"Kenyon College\")"
      ],
      "metadata": {
        "id": "GafQCjJneguN"
      },
      "execution_count": null,
      "outputs": []
    },
    {
      "cell_type": "code",
      "source": [
        "location"
      ],
      "metadata": {
        "id": "qibzWq1pe9_p"
      },
      "execution_count": null,
      "outputs": []
    },
    {
      "cell_type": "code",
      "source": [
        "type(location)"
      ],
      "metadata": {
        "id": "TyrK7DqlfBJS"
      },
      "execution_count": null,
      "outputs": []
    },
    {
      "cell_type": "code",
      "source": [
        "print(f\"Importance: {location.raw['importance']}\")"
      ],
      "metadata": {
        "id": "BHPFw4VjgphG"
      },
      "execution_count": null,
      "outputs": []
    },
    {
      "cell_type": "code",
      "source": [
        "print(f\"Class: {location.raw['class']} \\nType: {location.raw['type']}\")"
      ],
      "metadata": {
        "id": "qCG8sBDFgwEM"
      },
      "execution_count": null,
      "outputs": []
    },
    {
      "cell_type": "code",
      "source": [
        "possible_locations = geolocator.geocode(\"Kenyon College\", exactly_one=False)\n",
        "for location in possible_locations:\n",
        "    print(location.address)\n",
        "    print(location.latitude, location.longitude)\n",
        "    print(f\"Importance: {location.raw['importance']}\")"
      ],
      "metadata": {
        "id": "jJp-COhnhxbt"
      },
      "execution_count": null,
      "outputs": []
    },
    {
      "cell_type": "code",
      "source": [
        "!pip install folium"
      ],
      "metadata": {
        "id": "C5Pj7tbBiPxV"
      },
      "execution_count": null,
      "outputs": []
    },
    {
      "cell_type": "code",
      "source": [
        "import folium"
      ],
      "metadata": {
        "id": "AuuM_R8qiUA2"
      },
      "execution_count": null,
      "outputs": []
    },
    {
      "cell_type": "code",
      "source": [
        "kenyon_map = folium.Map(location=[40.37264735, -82.39428986783508], zoom_start=14)\n",
        "kenyon_map"
      ],
      "metadata": {
        "id": "Fo9ENcPOiWLS"
      },
      "execution_count": null,
      "outputs": []
    }
  ]
}